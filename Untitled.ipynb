{
 "cells": [
  {
   "cell_type": "code",
   "execution_count": 1,
   "id": "dcd40541",
   "metadata": {},
   "outputs": [
    {
     "name": "stdout",
     "output_type": "stream",
     "text": [
      "   transaction_ID  vendor_number  transaction_amount transaction_type\n",
      "0               1            483              817613   cash_withdrawl\n"
     ]
    }
   ],
   "source": [
    "import numpy as np\n",
    "import random\n",
    "import pandas as pd\n",
    "\n",
    "#unique transaction id's\n",
    "transaction_id = [i for i in range(1,50001)]\n",
    "\n",
    "#vendor/customer number\n",
    "vendor_number = np.random.randint(low = 1, high = 2500, size = (50000,))\n",
    "\n",
    "#transaction amount\n",
    "transaction_amount = np.random.randint(low = 20, high = 1250000, size = (50000))\n",
    "\n",
    "#transaction type\n",
    "transaction_types = ['cash_withdrawl', 'cash_deposit','transfer_domestic','transfer_international']\n",
    "\n",
    "#generate list of random integers\n",
    "random_integers = [random.randint(0,3) for i in range(0,50000)]\n",
    "transaction_list = [transaction_types[i] for i in random_integers]\n",
    "\n",
    "\n",
    "transaction_data = {\"transaction_ID\": transaction_id,\n",
    "                   \"vendor_number\" : list(vendor_number),\n",
    "                   \"transaction_amount\" : list(transaction_amount),\n",
    "                    \"transaction_type\" : transaction_list,}\n",
    "\n",
    "\n",
    "transaction_DataFrame = pd.DataFrame(transaction_data)"
   ]
  },
  {
   "cell_type": "code",
   "execution_count": 7,
   "id": "cee45201",
   "metadata": {},
   "outputs": [
    {
     "name": "stdout",
     "output_type": "stream",
     "text": [
      "Collecting neo4j\n",
      "  Downloading neo4j-5.9.0.tar.gz (188 kB)\n",
      "                                              0.0/188.5 kB ? eta -:--:--\n",
      "     ------                                  30.7/188.5 kB 1.4 MB/s eta 0:00:01\n",
      "     ----------------                      81.9/188.5 kB 919.0 kB/s eta 0:00:01\n",
      "     ---------------------                112.6/188.5 kB 819.2 kB/s eta 0:00:01\n",
      "     -------------------------------      163.8/188.5 kB 898.2 kB/s eta 0:00:01\n",
      "     ------------------------------------ 188.5/188.5 kB 877.9 kB/s eta 0:00:00\n",
      "  Installing build dependencies: started\n",
      "  Installing build dependencies: finished with status 'done'\n",
      "  Getting requirements to build wheel: started\n",
      "  Getting requirements to build wheel: finished with status 'done'\n",
      "  Installing backend dependencies: started\n",
      "  Installing backend dependencies: finished with status 'done'\n",
      "  Preparing metadata (pyproject.toml): started\n",
      "  Preparing metadata (pyproject.toml): finished with status 'done'\n",
      "Requirement already satisfied: pytz in c:\\users\\pb966\\appdata\\local\\programs\\python\\python311\\lib\\site-packages (from neo4j) (2023.3)\n",
      "Building wheels for collected packages: neo4j\n",
      "  Building wheel for neo4j (pyproject.toml): started\n",
      "  Building wheel for neo4j (pyproject.toml): finished with status 'done'\n",
      "  Created wheel for neo4j: filename=neo4j-5.9.0-py3-none-any.whl size=259497 sha256=d18bf3b3ab0041592845edd0891838a1b4fab76c75c00bab9396021e7c771767\n",
      "  Stored in directory: c:\\users\\pb966\\appdata\\local\\pip\\cache\\wheels\\5a\\6a\\b3\\89ab0efac04cf204cfc65f2bff4776865cfe5ff2e1b94ebaff\n",
      "Successfully built neo4j\n",
      "Installing collected packages: neo4j\n",
      "Successfully installed neo4j-5.9.0\n"
     ]
    }
   ],
   "source": [
    "#!pip install neo4j"
   ]
  },
  {
   "cell_type": "code",
   "execution_count": 3,
   "id": "b77da1e1",
   "metadata": {},
   "outputs": [
    {
     "data": {
      "text/html": [
       "<div>\n",
       "<style scoped>\n",
       "    .dataframe tbody tr th:only-of-type {\n",
       "        vertical-align: middle;\n",
       "    }\n",
       "\n",
       "    .dataframe tbody tr th {\n",
       "        vertical-align: top;\n",
       "    }\n",
       "\n",
       "    .dataframe thead th {\n",
       "        text-align: right;\n",
       "    }\n",
       "</style>\n",
       "<table border=\"1\" class=\"dataframe\">\n",
       "  <thead>\n",
       "    <tr style=\"text-align: right;\">\n",
       "      <th></th>\n",
       "      <th>transaction_ID</th>\n",
       "      <th>vendor_number</th>\n",
       "      <th>transaction_amount</th>\n",
       "      <th>transaction_type</th>\n",
       "    </tr>\n",
       "  </thead>\n",
       "  <tbody>\n",
       "    <tr>\n",
       "      <th>0</th>\n",
       "      <td>1</td>\n",
       "      <td>483</td>\n",
       "      <td>817613</td>\n",
       "      <td>cash_withdrawl</td>\n",
       "    </tr>\n",
       "    <tr>\n",
       "      <th>1</th>\n",
       "      <td>2</td>\n",
       "      <td>2419</td>\n",
       "      <td>1124335</td>\n",
       "      <td>cash_deposit</td>\n",
       "    </tr>\n",
       "    <tr>\n",
       "      <th>2</th>\n",
       "      <td>3</td>\n",
       "      <td>1601</td>\n",
       "      <td>188166</td>\n",
       "      <td>transfer_domestic</td>\n",
       "    </tr>\n",
       "    <tr>\n",
       "      <th>3</th>\n",
       "      <td>4</td>\n",
       "      <td>764</td>\n",
       "      <td>911126</td>\n",
       "      <td>transfer_international</td>\n",
       "    </tr>\n",
       "    <tr>\n",
       "      <th>4</th>\n",
       "      <td>5</td>\n",
       "      <td>227</td>\n",
       "      <td>242154</td>\n",
       "      <td>transfer_domestic</td>\n",
       "    </tr>\n",
       "  </tbody>\n",
       "</table>\n",
       "</div>"
      ],
      "text/plain": [
       "   transaction_ID  vendor_number  transaction_amount        transaction_type\n",
       "0               1            483              817613          cash_withdrawl\n",
       "1               2           2419             1124335            cash_deposit\n",
       "2               3           1601              188166       transfer_domestic\n",
       "3               4            764              911126  transfer_international\n",
       "4               5            227              242154       transfer_domestic"
      ]
     },
     "execution_count": 3,
     "metadata": {},
     "output_type": "execute_result"
    }
   ],
   "source": [
    "transaction_DataFrame.head()"
   ]
  },
  {
   "cell_type": "code",
   "execution_count": 11,
   "id": "7be281a9",
   "metadata": {},
   "outputs": [],
   "source": [
    "from neo4j import GraphDatabase\n",
    "\n",
    "transaction_list = transaction_DataFrame.values.tolist()\n",
    "\n",
    "transaction_execution_commands = []\n",
    "\n",
    "for i in transaction_list:\n",
    "    neo4j_create_statemenet = \"create (t:Transaction {transaction_id:\" + str(i[0]) +\", vendor_number:  \" + str(i[1]) +\", transaction_amount: \" + str(i[2]) +\", transaction_type: '\" + str(i[3]) + \"'})\"\n",
    "    transaction_execution_commands.append(neo4j_create_statemenet)\n",
    "\n",
    "    \n",
    "def execute_transactions(transaction_execution_commands):\n",
    "    data_base_connection = GraphDatabase.driver(uri = \"bolt://localhost:7687\", auth=(\"neo4j\", \"password\"))\n",
    "    session = data_base_connection.session()    \n",
    "    for i in transaction_execution_commands:\n",
    "        session.run(i)\n",
    "\n",
    "        \n",
    "execute_transactions(transaction_execution_commands)"
   ]
  },
  {
   "cell_type": "code",
   "execution_count": 12,
   "id": "6e37a23d",
   "metadata": {},
   "outputs": [
    {
     "name": "stdout",
     "output_type": "stream",
     "text": [
      "['cash_withdrawl', 'cash_deposit', 'transfer_domestic', 'transfer_international']\n"
     ]
    }
   ],
   "source": [
    "unique_transaction_types = [\"match (t:Transaction) return distinct t.transaction_type\"]\n",
    "\n",
    "def execute_transactions(transaction_execution_commands, return_result = False):\n",
    "    data_base_connection = GraphDatabase.driver(uri = \"bolt://localhost:7687\", auth=(\"neo4j\", \"password\"))\n",
    "    session = data_base_connection.session()\n",
    "    return_list = []\n",
    "    \n",
    "    for i in transaction_execution_commands:\n",
    "        transaction_result = session.run(i)\n",
    "        return_list = [j[0] for j in transaction_result]\n",
    "    \n",
    "    if return_result:\n",
    "        return return_list\n",
    "\n",
    "        \n",
    "unique_transaction_results = execute_transactions(unique_transaction_types, True)\n",
    "print(unique_transaction_results)"
   ]
  },
  {
   "cell_type": "code",
   "execution_count": 14,
   "id": "fece1078",
   "metadata": {},
   "outputs": [],
   "source": [
    "create_labels_commands = []\n",
    "\n",
    "for i in unique_transaction_results:\n",
    "    create_labels_commands.append(\"MATCH (t:Transaction) WHERE t.transaction_type = '\" + i + \"' SET t :\" + i)\n",
    "\n",
    "execute_transactions(create_labels_commands)"
   ]
  },
  {
   "cell_type": "code",
   "execution_count": 15,
   "id": "d1bacbcf",
   "metadata": {},
   "outputs": [
    {
     "data": {
      "text/plain": [
       "\"MATCH (t:Transaction) WHERE t.transaction_type = 'cash_withdrawl' SET t :cash_withdrawl\""
      ]
     },
     "execution_count": 15,
     "metadata": {},
     "output_type": "execute_result"
    }
   ],
   "source": [
    "create_labels_commands[]"
   ]
  },
  {
   "cell_type": "code",
   "execution_count": 19,
   "id": "54b5dc49",
   "metadata": {},
   "outputs": [],
   "source": [
    "from neo4j import GraphDatabase\n",
    "\n",
    "# Create a Neo4j driver\n",
    "driver = GraphDatabase.driver(uri, auth=(\"neo4j\", \"password\"), database=\"neo4j\")\n",
    "\n",
    "# Create a session\n",
    "session = driver.session()\n",
    "\n",
    "# Run your queries or perform other operations\n",
    "query = \"MATCH (m:Movie)-[:ACTED_IN]-(a:Actor) RETURN m.title AS movie, COLLECT(a.name) AS actors\"\n",
    "result = session.run(query)\n",
    "\n",
    "for record in result:\n",
    "    print(record[\"movie\"], record[\"actors\"])\n",
    "\n",
    "# Close the session and driver\n",
    "\n"
   ]
  },
  {
   "cell_type": "code",
   "execution_count": 20,
   "id": "bf8c8e1b",
   "metadata": {},
   "outputs": [
    {
     "name": "stdout",
     "output_type": "stream",
     "text": [
      "Total movies: 40\n"
     ]
    }
   ],
   "source": [
    "query = \"MATCH (m:Movie) RETURN count(m) AS movieCount\"\n",
    "result = session.run(query)\n",
    "\n",
    "for record in result:\n",
    "    movie_count = record[\"movieCount\"]\n",
    "    print(\"Total movies:\", movie_count)\n",
    "\n",
    "if movie_count > 0:\n",
    "    query = \"MATCH (m:Movie)-[:ACTED_IN]-(a:Actor) RETURN m.title AS movie, COLLECT(a.name) AS actors\"\n",
    "    result = session.run(query)\n",
    "\n",
    "    for record in result:\n",
    "        print(record[\"movie\"], record[\"actors\"])\n",
    "else:\n",
    "    print(\"No movies found in the database.\")"
   ]
  },
  {
   "cell_type": "code",
   "execution_count": 22,
   "id": "7b2b508e",
   "metadata": {},
   "outputs": [
    {
     "name": "stdout",
     "output_type": "stream",
     "text": [
      "The Matrix\n",
      "The Matrix Reloaded\n",
      "The Matrix Revolutions\n",
      "The Devil's Advocate\n",
      "A Few Good Men\n",
      "Top Gun\n",
      "Jerry Maguire\n",
      "Stand By Me\n",
      "As Good as It Gets\n",
      "What Dreams May Come\n",
      "Snow Falling on Cedars\n",
      "You've Got Mail\n",
      "Sleepless in Seattle\n",
      "Joe Versus the Volcano\n",
      "When Harry Met Sally\n",
      "That Thing You Do\n",
      "The Replacements\n",
      "RescueDawn\n",
      "The Birdcage\n",
      "Unforgiven\n",
      "Johnny Mnemonic\n",
      "Cloud Atlas\n",
      "The Da Vinci Code\n",
      "V for Vendetta\n",
      "Speed Racer\n",
      "Ninja Assassin\n",
      "The Green Mile\n",
      "Frost/Nixon\n",
      "Hoffa\n",
      "Apollo 13\n",
      "Twister\n",
      "Cast Away\n",
      "One Flew Over the Cuckoo's Nest\n",
      "Something's Gotta Give\n",
      "Bicentennial Man\n",
      "Charlie Wilson's War\n",
      "The Polar Express\n",
      "A League of Their Own\n",
      "Parasite\n",
      "Joker\n"
     ]
    }
   ],
   "source": [
    "query = \"MATCH (m:Movie) RETURN m.title AS movie\"\n",
    "result = session.run(query)\n",
    "\n",
    "for record in result:\n",
    "    print(record[\"movie\"])"
   ]
  },
  {
   "cell_type": "code",
   "execution_count": 28,
   "id": "8fbbc093",
   "metadata": {},
   "outputs": [
    {
     "name": "stdout",
     "output_type": "stream",
     "text": [
      "{'The Matrix': ['Emil Eifrem', 'Hugo Weaving', 'Laurence Fishburne', 'Carrie-Anne Moss', 'Keanu Reeves'], 'The Matrix Reloaded': ['Hugo Weaving', 'Laurence Fishburne', 'Carrie-Anne Moss', 'Keanu Reeves'], 'The Matrix Revolutions': ['Hugo Weaving', 'Laurence Fishburne', 'Carrie-Anne Moss', 'Keanu Reeves'], \"The Devil's Advocate\": ['Al Pacino', 'Charlize Theron', 'Keanu Reeves'], 'A Few Good Men': ['James Marshall', 'Kevin Pollak', 'J.T. Walsh', 'Aaron Sorkin', 'Cuba Gooding Jr.', 'Christopher Guest', 'Noah Wyle', 'Kiefer Sutherland', 'Kevin Bacon', 'Demi Moore', 'Jack Nicholson', 'Tom Cruise'], 'Top Gun': ['Val Kilmer', 'Meg Ryan', 'Tom Skerritt', 'Kelly McGillis', 'Tom Cruise', 'Anthony Edwards'], 'Jerry Maguire': [\"Jerry O'Connell\", 'Bonnie Hunt', 'Jay Mohr', 'Cuba Gooding Jr.', 'Jonathan Lipnicki', 'Renee Zellweger', 'Kelly Preston', 'Regina King', 'Tom Cruise'], 'Stand By Me': [\"Jerry O'Connell\", 'River Phoenix', 'Marshall Bell', 'Wil Wheaton', 'Kiefer Sutherland', 'John Cusack', 'Corey Feldman'], 'As Good as It Gets': ['Helen Hunt', 'Jack Nicholson', 'Cuba Gooding Jr.', 'Greg Kinnear'], 'What Dreams May Come': ['Robin Williams', 'Cuba Gooding Jr.', 'Max von Sydow', 'Werner Herzog', 'Annabella Sciorra'], 'Snow Falling on Cedars': ['Ethan Hawke', 'Rick Yune', 'Max von Sydow', 'James Cromwell'], \"You've Got Mail\": ['Tom Hanks', 'Parker Posey', 'Greg Kinnear', 'Meg Ryan', 'Steve Zahn', 'Dave Chappelle'], 'Sleepless in Seattle': ['Meg Ryan', 'Victor Garber', 'Tom Hanks', 'Bill Pullman', 'Rita Wilson', \"Rosie O'Donnell\"], 'Joe Versus the Volcano': ['Tom Hanks', 'Nathan Lane', 'Meg Ryan'], 'When Harry Met Sally': ['Carrie Fisher', 'Billy Crystal', 'Bruno Kirby', 'Meg Ryan'], 'That Thing You Do': ['Tom Hanks', 'Liv Tyler', 'Charlize Theron'], 'The Replacements': ['Brooke Langton', 'Keanu Reeves', 'Orlando Jones', 'Gene Hackman'], 'RescueDawn': ['Zach Grenier', 'Steve Zahn', 'Christian Bale', 'Marshall Bell'], 'The Birdcage': ['Robin Williams', 'Nathan Lane', 'Gene Hackman'], 'Unforgiven': ['Clint Eastwood', 'Gene Hackman', 'Richard Harris'], 'Johnny Mnemonic': ['Ice-T', 'Dina Meyer', 'Keanu Reeves', 'Takeshi Kitano'], 'Cloud Atlas': ['Tom Hanks', 'Jim Broadbent', 'Halle Berry', 'Hugo Weaving'], 'The Da Vinci Code': ['Audrey Tautou', 'Tom Hanks', 'Ian McKellen', 'Paul Bettany'], 'V for Vendetta': ['Ben Miles', 'Natalie Portman', 'John Hurt', 'Stephen Rea', 'Hugo Weaving'], 'Speed Racer': ['Susan Sarandon', 'Ben Miles', 'John Goodman', 'Christina Ricci', 'Matthew Fox', 'Rain', 'Emile Hirsch'], 'Ninja Assassin': ['Naomie Harris', 'Rain', 'Rick Yune', 'Ben Miles'], 'The Green Mile': ['Patricia Clarkson', 'Sam Rockwell', 'Gary Sinise', 'David Morse', 'Tom Hanks', 'Bonnie Hunt', 'Michael Clarke Duncan', 'James Cromwell'], 'Frost/Nixon': ['Oliver Platt', 'Frank Langella', 'Kevin Bacon', 'Michael Sheen', 'Sam Rockwell'], 'Hoffa': ['Jack Nicholson', 'Danny DeVito', 'John C. Reilly', 'J.T. Walsh'], 'Apollo 13': ['Ed Harris', 'Tom Hanks', 'Kevin Bacon', 'Gary Sinise', 'Bill Paxton'], 'Twister': ['Helen Hunt', 'Philip Seymour Hoffman', 'Bill Paxton', 'Zach Grenier'], 'Cast Away': ['Helen Hunt', 'Tom Hanks'], \"One Flew Over the Cuckoo's Nest\": ['Jack Nicholson', 'Danny DeVito'], \"Something's Gotta Give\": ['Jack Nicholson', 'Keanu Reeves', 'Diane Keaton'], 'Bicentennial Man': ['Oliver Platt', 'Robin Williams'], \"Charlie Wilson's War\": ['Tom Hanks', 'Julia Roberts', 'Philip Seymour Hoffman'], 'The Polar Express': ['Tom Hanks'], 'A League of Their Own': ['Lori Petty', 'Bill Paxton', 'Tom Hanks', \"Rosie O'Donnell\", 'Geena Davis', 'Madonna'], 'Parasite': ['Kang-ho Song', 'Yeo-jeong Jo', 'Sun-kyun Lee', 'So-dam Park', 'Woo-sik Choi'], 'Joker': ['Robert De Niro', 'Zazie Beetz', 'Joaquin Phoenix']}\n"
     ]
    }
   ],
   "source": [
    "query = \"MATCH (m:Movie)-[:ACTED_IN]-(a:Person) RETURN m.title AS movie, COLLECT(a.name) AS actors\"\n",
    "result = session.run(query)\n",
    "\n",
    "movie_actors_dict = {}\n",
    "\n",
    "for record in result:\n",
    "    movie = record[\"movie\"]\n",
    "    actors = record[\"actors\"]\n",
    "    movie_actors_dict[movie] = actors\n",
    "\n",
    "print(movie_actors_dict)\n"
   ]
  },
  {
   "cell_type": "code",
   "execution_count": 47,
   "id": "caca2787",
   "metadata": {},
   "outputs": [],
   "source": [
    "import pandas as pd\n",
    "\n",
    "query = \"MATCH (m:Movie)<-[r:DIRECTED]-(p:Person) RETURN m.title AS movie, COLLECT(p.name) AS directors\"\n",
    "result = session.run(query)\n",
    "\n",
    "df = pd.DataFrame(result, columns=[\"Movie\", \"Director\"])"
   ]
  },
  {
   "cell_type": "code",
   "execution_count": 59,
   "id": "e77402eb",
   "metadata": {},
   "outputs": [
    {
     "data": {
      "text/html": [
       "<div>\n",
       "<style scoped>\n",
       "    .dataframe tbody tr th:only-of-type {\n",
       "        vertical-align: middle;\n",
       "    }\n",
       "\n",
       "    .dataframe tbody tr th {\n",
       "        vertical-align: top;\n",
       "    }\n",
       "\n",
       "    .dataframe thead th {\n",
       "        text-align: right;\n",
       "    }\n",
       "</style>\n",
       "<table border=\"1\" class=\"dataframe\">\n",
       "  <thead>\n",
       "    <tr style=\"text-align: right;\">\n",
       "      <th></th>\n",
       "      <th>Movie</th>\n",
       "      <th>Director</th>\n",
       "      <th>Producers</th>\n",
       "      <th>Actors</th>\n",
       "    </tr>\n",
       "  </thead>\n",
       "  <tbody>\n",
       "    <tr>\n",
       "      <th>0</th>\n",
       "      <td>The Matrix</td>\n",
       "      <td>[Lana Wachowski, Andy Wachowski]</td>\n",
       "      <td>[Joel Silver]</td>\n",
       "      <td>{'Emil Eifrem': ['Emil'], 'Hugo Weaving': ['Ag...</td>\n",
       "    </tr>\n",
       "    <tr>\n",
       "      <th>1</th>\n",
       "      <td>The Matrix Reloaded</td>\n",
       "      <td>[Lana Wachowski, Andy Wachowski]</td>\n",
       "      <td>[Joel Silver]</td>\n",
       "      <td>{'Hugo Weaving': ['Agent Smith'], 'Laurence Fi...</td>\n",
       "    </tr>\n",
       "    <tr>\n",
       "      <th>2</th>\n",
       "      <td>The Matrix Revolutions</td>\n",
       "      <td>[Lana Wachowski, Andy Wachowski]</td>\n",
       "      <td>[Joel Silver]</td>\n",
       "      <td>{'Hugo Weaving': ['Agent Smith'], 'Laurence Fi...</td>\n",
       "    </tr>\n",
       "    <tr>\n",
       "      <th>3</th>\n",
       "      <td>The Devil's Advocate</td>\n",
       "      <td>[Taylor Hackford]</td>\n",
       "      <td>NaN</td>\n",
       "      <td>{'Al Pacino': ['John Milton'], 'Charlize Thero...</td>\n",
       "    </tr>\n",
       "    <tr>\n",
       "      <th>4</th>\n",
       "      <td>A Few Good Men</td>\n",
       "      <td>[Rob Reiner]</td>\n",
       "      <td>NaN</td>\n",
       "      <td>{'James Marshall': ['Pfc. Louden Downey'], 'Ke...</td>\n",
       "    </tr>\n",
       "  </tbody>\n",
       "</table>\n",
       "</div>"
      ],
      "text/plain": [
       "                    Movie                          Director      Producers  \\\n",
       "0              The Matrix  [Lana Wachowski, Andy Wachowski]  [Joel Silver]   \n",
       "1     The Matrix Reloaded  [Lana Wachowski, Andy Wachowski]  [Joel Silver]   \n",
       "2  The Matrix Revolutions  [Lana Wachowski, Andy Wachowski]  [Joel Silver]   \n",
       "3    The Devil's Advocate                 [Taylor Hackford]            NaN   \n",
       "4          A Few Good Men                      [Rob Reiner]            NaN   \n",
       "\n",
       "                                              Actors  \n",
       "0  {'Emil Eifrem': ['Emil'], 'Hugo Weaving': ['Ag...  \n",
       "1  {'Hugo Weaving': ['Agent Smith'], 'Laurence Fi...  \n",
       "2  {'Hugo Weaving': ['Agent Smith'], 'Laurence Fi...  \n",
       "3  {'Al Pacino': ['John Milton'], 'Charlize Thero...  \n",
       "4  {'James Marshall': ['Pfc. Louden Downey'], 'Ke...  "
      ]
     },
     "execution_count": 59,
     "metadata": {},
     "output_type": "execute_result"
    }
   ],
   "source": [
    "df.head()"
   ]
  },
  {
   "cell_type": "code",
   "execution_count": 49,
   "id": "bf7a417f",
   "metadata": {},
   "outputs": [],
   "source": [
    "query = \"MATCH (m:Movie)<-[r:PRODUCED]-(p:Person) RETURN m.title AS movie, COLLECT(p.name) AS producers\"\n",
    "result = session.run(query)\n",
    "\n",
    "producers_df = pd.DataFrame(result, columns=[\"Movie\", \"Producers\"])\n",
    "df = df.merge(producers_df, on=\"Movie\", how=\"left\")"
   ]
  },
  {
   "cell_type": "code",
   "execution_count": 58,
   "id": "7d3229c6",
   "metadata": {},
   "outputs": [],
   "source": [
    "import pandas as pd\n",
    "\n",
    "query = \"MATCH (m:Movie)<-[r:ACTED_IN]-(a:Person) RETURN m.title AS Movie, COLLECT({name: a.name, role: r.roles}) AS Actors\"\n",
    "result = session.run(query)\n",
    "\n",
    "data = []\n",
    "for record in result:\n",
    "    movie = record[\"Movie\"]\n",
    "    actors = record[\"Actors\"]\n",
    "    actor_dict = {actor[\"name\"]: actor[\"role\"] for actor in actors}\n",
    "    data.append([movie, actor_dict])\n",
    "\n",
    "df_actor = pd.DataFrame(data, columns=[\"Movie\", \"Actors\"])\n",
    "df = df.merge(df_actor, on=\"Movie\", how=\"left\")"
   ]
  },
  {
   "cell_type": "code",
   "execution_count": 60,
   "id": "6fad58c5",
   "metadata": {},
   "outputs": [
    {
     "data": {
      "text/plain": [
       "{'Emil Eifrem': ['Emil'],\n",
       " 'Hugo Weaving': ['Agent Smith'],\n",
       " 'Laurence Fishburne': ['Morpheus'],\n",
       " 'Carrie-Anne Moss': ['Trinity'],\n",
       " 'Keanu Reeves': ['Neo']}"
      ]
     },
     "execution_count": 60,
     "metadata": {},
     "output_type": "execute_result"
    }
   ],
   "source": [
    "df.Actors[0]"
   ]
  },
  {
   "cell_type": "code",
   "execution_count": null,
   "id": "4eccce6c",
   "metadata": {},
   "outputs": [],
   "source": []
  }
 ],
 "metadata": {
  "kernelspec": {
   "display_name": "Python 3 (ipykernel)",
   "language": "python",
   "name": "python3"
  },
  "language_info": {
   "codemirror_mode": {
    "name": "ipython",
    "version": 3
   },
   "file_extension": ".py",
   "mimetype": "text/x-python",
   "name": "python",
   "nbconvert_exporter": "python",
   "pygments_lexer": "ipython3",
   "version": "3.9.15"
  }
 },
 "nbformat": 4,
 "nbformat_minor": 5
}
